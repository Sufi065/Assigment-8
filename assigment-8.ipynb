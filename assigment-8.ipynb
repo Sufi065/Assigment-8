{
 "cells": [
  {
   "attachments": {},
   "cell_type": "markdown",
   "metadata": {},
   "source": [
    "Q1. What is Abstraction in OOps? Explain with an example."
   ]
  },
  {
   "attachments": {},
   "cell_type": "markdown",
   "metadata": {},
   "source": [
    " ans:-Abstraction in OOP refers to the concept of representing complex real-world entities as simplified models within a program. It involves hiding unnecessary details and focusing on essential features to provide a high-level view. Abstraction allows developers to build more manageable and modular systems.\n",
    "\n",
    "For example,\n",
    "\n",
    " consider a class called `Shape` that represents geometric shapes.\n",
    " \n",
    "The `Shape` class can have a method called `calculate_area()` which calculates the area of the shape.\n",
    "\n",
    " The implementation of the `calculate_area()` method would vary for different shapes such as rectangles, circles, or triangles.\n",
    " \n",
    "  By using abstraction, we can define the `calculate_area()` method in the `Shape` class without specifying its implementation.\n",
    "  \n",
    "   Each specific shape class (e.g., `Rectangle`, `Circle`, `Triangle`) would inherit from the `Shape` class and provide its own implementation of the `calculate_area()` method. The abstraction allows us to work with shapes in a unified manner without worrying about the internal details of each shape.\n"
   ]
  },
  {
   "attachments": {},
   "cell_type": "markdown",
   "metadata": {},
   "source": [
    "Q2. Differentiate between Abstraction and Encapsulation. Explain with an example."
   ]
  },
  {
   "attachments": {},
   "cell_type": "markdown",
   "metadata": {},
   "source": [
    "ans:-Abstraction and encapsulation are related concepts in OOP, but they have different focuses and purposes:\n",
    "\n",
    "   - Abstraction focuses on hiding unnecessary details and providing a high-level view of entities, emphasizing what an object does.\n",
    "   - Encapsulation focuses on hiding internal implementation details and protecting data from external access, emphasizing how an object achieves its functionality."
   ]
  },
  {
   "cell_type": "code",
   "execution_count": 13,
   "metadata": {},
   "outputs": [],
   "source": [
    "class Car:\n",
    "        def __init__(self, brand, model):\n",
    "           self.brand = brand\n",
    "           self.model = model\n",
    "\n",
    "        def start_engine(self):\n",
    "             return \"this the first engin\" # Code to start the car's engine\n",
    "\n",
    "        def drive(self):\n",
    "              return \"this my second driver\" # Code to drive the car\n",
    "\n",
    "        def stop_engine(self):\n",
    "             return \"this is my third\"\n",
    "             "
   ]
  },
  {
   "cell_type": "code",
   "execution_count": 14,
   "metadata": {},
   "outputs": [],
   "source": [
    "car_obj=Car"
   ]
  },
  {
   "cell_type": "code",
   "execution_count": 19,
   "metadata": {},
   "outputs": [
    {
     "data": {
      "text/plain": [
       "'this is my third'"
      ]
     },
     "execution_count": 19,
     "metadata": {},
     "output_type": "execute_result"
    }
   ],
   "source": [
    "Car.stop_engine(Car)"
   ]
  },
  {
   "cell_type": "code",
   "execution_count": 20,
   "metadata": {},
   "outputs": [
    {
     "data": {
      "text/plain": [
       "'this my second driver'"
      ]
     },
     "execution_count": 20,
     "metadata": {},
     "output_type": "execute_result"
    }
   ],
   "source": [
    "Car.drive(Car)"
   ]
  },
  {
   "cell_type": "code",
   "execution_count": 22,
   "metadata": {},
   "outputs": [
    {
     "data": {
      "text/plain": [
       "'this the first engin'"
      ]
     },
     "execution_count": 22,
     "metadata": {},
     "output_type": "execute_result"
    }
   ],
   "source": [
    "Car.start_engine(Car)"
   ]
  },
  {
   "attachments": {},
   "cell_type": "markdown",
   "metadata": {},
   "source": [
    "Q3. What is abc module in python? Why is it used?"
   ]
  },
  {
   "attachments": {},
   "cell_type": "markdown",
   "metadata": {},
   "source": [
    "Q4. How can we achieve data abstraction?"
   ]
  },
  {
   "attachments": {},
   "cell_type": "markdown",
   "metadata": {},
   "source": [
    "ans:-Data abstraction in OOP is the process of representing the relevant data and hiding unnecessary details from the user. It involves providing a simplified interface to interact with the data, while the underlying implementation details are hidden.\n",
    "\n",
    "We can achieve data abstraction by using access modifiers such as private, protected, and public. By designating certain attributes or methods as private or protected, we restrict their access from outside the class. Only the public attributes and methods are accessible to the user."
   ]
  },
  {
   "attachments": {},
   "cell_type": "markdown",
   "metadata": {},
   "source": [
    "Q5. Can we create an instance of an abstract class? Explain your answer."
   ]
  },
  {
   "cell_type": "code",
   "execution_count": 1,
   "metadata": {},
   "outputs": [],
   "source": [
    "from abc import ABC, abstractmethod\n",
    "\n",
    "class AbstractClass(ABC):\n",
    "    @abstractmethod\n",
    "    def abstract_method(self):\n",
    "        pass\n",
    "\n",
    "class ConcreteClass(AbstractClass):\n",
    "    def abstract_method(self):\n",
    "        print(\"Implemented abstract method\")"
   ]
  },
  {
   "cell_type": "code",
   "execution_count": 3,
   "metadata": {},
   "outputs": [],
   "source": [
    "ConcreteClass_obj=ConcreteClass()"
   ]
  },
  {
   "cell_type": "code",
   "execution_count": 4,
   "metadata": {},
   "outputs": [
    {
     "name": "stdout",
     "output_type": "stream",
     "text": [
      "Implemented abstract method\n"
     ]
    }
   ],
   "source": [
    "ConcreteClass_obj.abstract_method()"
   ]
  }
 ],
 "metadata": {
  "kernelspec": {
   "display_name": "Python 3",
   "language": "python",
   "name": "python3"
  },
  "language_info": {
   "codemirror_mode": {
    "name": "ipython",
    "version": 3
   },
   "file_extension": ".py",
   "mimetype": "text/x-python",
   "name": "python",
   "nbconvert_exporter": "python",
   "pygments_lexer": "ipython3",
   "version": "3.11.1"
  },
  "orig_nbformat": 4
 },
 "nbformat": 4,
 "nbformat_minor": 2
}
